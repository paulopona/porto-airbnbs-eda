{
 "cells": [
  {
   "cell_type": "markdown",
   "id": "dbe33bf7",
   "metadata": {},
   "source": [
    "# <center> Porto's Airbnbs: Exploratory Data Analysis </center>"
   ]
  },
  {
   "cell_type": "markdown",
   "id": "33a00a2e",
   "metadata": {},
   "source": [
    "## Notebook Summary\n",
    "\n",
    "In this notebook I aim to have a look at data on Porto's airbnb listings of March 2022, with the intent of getting a feel for what can potentially affect the price of an airbnb in Porto.\n",
    "\n",
    "To that end, we will start by having an overview of the available data, perform some data cleaning and lastly perform some exploratory analysis on the data.\n",
    "\n",
    "The data file used in this notebook was downloaded from this [website](http://insideairbnb.com/get-the-data/), which provides multiple datasets with a [creative commons](https://creativecommons.org/licenses/by/4.0/) license. This particular csv file can be found under \"Porto, Norte, Portugal\" date 14th of March, 2022. "
   ]
  },
  {
   "cell_type": "markdown",
   "id": "4c2441c1",
   "metadata": {},
   "source": [
    "## General Data Overview & Data Cleaning"
   ]
  },
  {
   "cell_type": "code",
   "execution_count": 1,
   "id": "c58995dd",
   "metadata": {},
   "outputs": [],
   "source": [
    "#Import key libraries that we will be using \n",
    "\n",
    "import numpy as np\n",
    "import pandas as pd\n",
    "import matplotlib.pyplot as plt \n",
    "import seaborn as sns"
   ]
  },
  {
   "cell_type": "code",
   "execution_count": 2,
   "id": "392c579b",
   "metadata": {},
   "outputs": [],
   "source": [
    "#Import the listings data from a local csv file and create our dataframe\n",
    "\n",
    "df_airbnb = pd.read_csv(\"listings_porto.csv\")"
   ]
  },
  {
   "cell_type": "code",
   "execution_count": 3,
   "id": "1a1c5888",
   "metadata": {},
   "outputs": [
    {
     "name": "stdout",
     "output_type": "stream",
     "text": [
      "<class 'pandas.core.frame.DataFrame'>\n",
      "RangeIndex: 10903 entries, 0 to 10902\n",
      "Data columns (total 74 columns):\n",
      " #   Column                                        Non-Null Count  Dtype  \n",
      "---  ------                                        --------------  -----  \n",
      " 0   id                                            10903 non-null  int64  \n",
      " 1   listing_url                                   10903 non-null  object \n",
      " 2   scrape_id                                     10903 non-null  int64  \n",
      " 3   last_scraped                                  10903 non-null  object \n",
      " 4   name                                          10903 non-null  object \n",
      " 5   description                                   10897 non-null  object \n",
      " 6   neighborhood_overview                         6713 non-null   object \n",
      " 7   picture_url                                   10903 non-null  object \n",
      " 8   host_id                                       10903 non-null  int64  \n",
      " 9   host_url                                      10903 non-null  object \n",
      " 10  host_name                                     10902 non-null  object \n",
      " 11  host_since                                    10902 non-null  object \n",
      " 12  host_location                                 10888 non-null  object \n",
      " 13  host_about                                    5344 non-null   object \n",
      " 14  host_response_time                            8454 non-null   object \n",
      " 15  host_response_rate                            8454 non-null   object \n",
      " 16  host_acceptance_rate                          8911 non-null   object \n",
      " 17  host_is_superhost                             10902 non-null  object \n",
      " 18  host_thumbnail_url                            10902 non-null  object \n",
      " 19  host_picture_url                              10902 non-null  object \n",
      " 20  host_neighbourhood                            551 non-null    object \n",
      " 21  host_listings_count                           10902 non-null  float64\n",
      " 22  host_total_listings_count                     10902 non-null  float64\n",
      " 23  host_verifications                            10903 non-null  object \n",
      " 24  host_has_profile_pic                          10902 non-null  object \n",
      " 25  host_identity_verified                        10902 non-null  object \n",
      " 26  neighbourhood                                 6713 non-null   object \n",
      " 27  neighbourhood_cleansed                        10903 non-null  object \n",
      " 28  neighbourhood_group_cleansed                  10903 non-null  object \n",
      " 29  latitude                                      10903 non-null  float64\n",
      " 30  longitude                                     10903 non-null  float64\n",
      " 31  property_type                                 10903 non-null  object \n",
      " 32  room_type                                     10903 non-null  object \n",
      " 33  accommodates                                  10903 non-null  int64  \n",
      " 34  bathrooms                                     0 non-null      float64\n",
      " 35  bathrooms_text                                10885 non-null  object \n",
      " 36  bedrooms                                      9794 non-null   float64\n",
      " 37  beds                                          10779 non-null  float64\n",
      " 38  amenities                                     10903 non-null  object \n",
      " 39  price                                         10903 non-null  object \n",
      " 40  minimum_nights                                10903 non-null  int64  \n",
      " 41  maximum_nights                                10903 non-null  int64  \n",
      " 42  minimum_minimum_nights                        10903 non-null  int64  \n",
      " 43  maximum_minimum_nights                        10903 non-null  int64  \n",
      " 44  minimum_maximum_nights                        10903 non-null  int64  \n",
      " 45  maximum_maximum_nights                        10903 non-null  int64  \n",
      " 46  minimum_nights_avg_ntm                        10903 non-null  float64\n",
      " 47  maximum_nights_avg_ntm                        10903 non-null  float64\n",
      " 48  calendar_updated                              0 non-null      float64\n",
      " 49  has_availability                              10903 non-null  object \n",
      " 50  availability_30                               10903 non-null  int64  \n",
      " 51  availability_60                               10903 non-null  int64  \n",
      " 52  availability_90                               10903 non-null  int64  \n",
      " 53  availability_365                              10903 non-null  int64  \n",
      " 54  calendar_last_scraped                         10903 non-null  object \n",
      " 55  number_of_reviews                             10903 non-null  int64  \n",
      " 56  number_of_reviews_ltm                         10903 non-null  int64  \n",
      " 57  number_of_reviews_l30d                        10903 non-null  int64  \n",
      " 58  first_review                                  9215 non-null   object \n",
      " 59  last_review                                   9215 non-null   object \n",
      " 60  review_scores_rating                          9215 non-null   float64\n",
      " 61  review_scores_accuracy                        9159 non-null   float64\n",
      " 62  review_scores_cleanliness                     9161 non-null   float64\n",
      " 63  review_scores_checkin                         9157 non-null   float64\n",
      " 64  review_scores_communication                   9159 non-null   float64\n",
      " 65  review_scores_location                        9157 non-null   float64\n",
      " 66  review_scores_value                           9156 non-null   float64\n",
      " 67  license                                       10044 non-null  object \n",
      " 68  instant_bookable                              10903 non-null  object \n",
      " 69  calculated_host_listings_count                10903 non-null  int64  \n",
      " 70  calculated_host_listings_count_entire_homes   10903 non-null  int64  \n",
      " 71  calculated_host_listings_count_private_rooms  10903 non-null  int64  \n",
      " 72  calculated_host_listings_count_shared_rooms   10903 non-null  int64  \n",
      " 73  reviews_per_month                             9215 non-null   float64\n",
      "dtypes: float64(18), int64(21), object(35)\n",
      "memory usage: 6.2+ MB\n"
     ]
    }
   ],
   "source": [
    "#Checking the data types to see if we need to make changes\n",
    "\n",
    "df_airbnb.info()"
   ]
  },
  {
   "cell_type": "markdown",
   "id": "c2f0a7af",
   "metadata": {},
   "source": [
    "### Data Cleaning\n",
    "\n",
    "By quickly looking at the data, we can see several host related columns that appear to have the wrong data type. Also, if we look at our target variable, the price, the data type does not seem adequate. Let's inspect them to better assess the situation. "
   ]
  },
  {
   "cell_type": "code",
   "execution_count": 4,
   "id": "b8390400",
   "metadata": {},
   "outputs": [
    {
     "data": {
      "text/html": [
       "<div>\n",
       "<style scoped>\n",
       "    .dataframe tbody tr th:only-of-type {\n",
       "        vertical-align: middle;\n",
       "    }\n",
       "\n",
       "    .dataframe tbody tr th {\n",
       "        vertical-align: top;\n",
       "    }\n",
       "\n",
       "    .dataframe thead th {\n",
       "        text-align: right;\n",
       "    }\n",
       "</style>\n",
       "<table border=\"1\" class=\"dataframe\">\n",
       "  <thead>\n",
       "    <tr style=\"text-align: right;\">\n",
       "      <th></th>\n",
       "      <th>host_response_time</th>\n",
       "      <th>host_response_rate</th>\n",
       "      <th>host_acceptance_rate</th>\n",
       "      <th>price</th>\n",
       "    </tr>\n",
       "  </thead>\n",
       "  <tbody>\n",
       "    <tr>\n",
       "      <th>0</th>\n",
       "      <td>within an hour</td>\n",
       "      <td>100%</td>\n",
       "      <td>85%</td>\n",
       "      <td>$80.00</td>\n",
       "    </tr>\n",
       "    <tr>\n",
       "      <th>1</th>\n",
       "      <td>within an hour</td>\n",
       "      <td>96%</td>\n",
       "      <td>97%</td>\n",
       "      <td>$75.00</td>\n",
       "    </tr>\n",
       "    <tr>\n",
       "      <th>2</th>\n",
       "      <td>NaN</td>\n",
       "      <td>NaN</td>\n",
       "      <td>NaN</td>\n",
       "      <td>$66.00</td>\n",
       "    </tr>\n",
       "    <tr>\n",
       "      <th>3</th>\n",
       "      <td>NaN</td>\n",
       "      <td>NaN</td>\n",
       "      <td>NaN</td>\n",
       "      <td>$66.00</td>\n",
       "    </tr>\n",
       "    <tr>\n",
       "      <th>4</th>\n",
       "      <td>within an hour</td>\n",
       "      <td>100%</td>\n",
       "      <td>93%</td>\n",
       "      <td>$21.00</td>\n",
       "    </tr>\n",
       "    <tr>\n",
       "      <th>5</th>\n",
       "      <td>within an hour</td>\n",
       "      <td>100%</td>\n",
       "      <td>100%</td>\n",
       "      <td>$62.00</td>\n",
       "    </tr>\n",
       "    <tr>\n",
       "      <th>6</th>\n",
       "      <td>within an hour</td>\n",
       "      <td>100%</td>\n",
       "      <td>93%</td>\n",
       "      <td>$20.00</td>\n",
       "    </tr>\n",
       "    <tr>\n",
       "      <th>7</th>\n",
       "      <td>NaN</td>\n",
       "      <td>NaN</td>\n",
       "      <td>100%</td>\n",
       "      <td>$214.00</td>\n",
       "    </tr>\n",
       "    <tr>\n",
       "      <th>8</th>\n",
       "      <td>NaN</td>\n",
       "      <td>NaN</td>\n",
       "      <td>NaN</td>\n",
       "      <td>$80.00</td>\n",
       "    </tr>\n",
       "    <tr>\n",
       "      <th>9</th>\n",
       "      <td>within an hour</td>\n",
       "      <td>100%</td>\n",
       "      <td>93%</td>\n",
       "      <td>$20.00</td>\n",
       "    </tr>\n",
       "  </tbody>\n",
       "</table>\n",
       "</div>"
      ],
      "text/plain": [
       "  host_response_time host_response_rate host_acceptance_rate    price\n",
       "0     within an hour               100%                  85%   $80.00\n",
       "1     within an hour                96%                  97%   $75.00\n",
       "2                NaN                NaN                  NaN   $66.00\n",
       "3                NaN                NaN                  NaN   $66.00\n",
       "4     within an hour               100%                  93%   $21.00\n",
       "5     within an hour               100%                 100%   $62.00\n",
       "6     within an hour               100%                  93%   $20.00\n",
       "7                NaN                NaN                 100%  $214.00\n",
       "8                NaN                NaN                  NaN   $80.00\n",
       "9     within an hour               100%                  93%   $20.00"
      ]
     },
     "execution_count": 4,
     "metadata": {},
     "output_type": "execute_result"
    }
   ],
   "source": [
    "df_airbnb[['host_response_time', 'host_response_rate', 'host_acceptance_rate', 'price']].head(10)"
   ]
  },
  {
   "cell_type": "markdown",
   "id": "96cb76bf",
   "metadata": {},
   "source": [
    "\"host_response_time\" has been assigned a data type that makes sense given the information it holds. However, for the remaining columns, it makes sense to convert them to numerical format for a potential future analysis. "
   ]
  },
  {
   "cell_type": "code",
   "execution_count": 5,
   "id": "dd1559dd",
   "metadata": {},
   "outputs": [],
   "source": [
    "#The \"%\" and \"$\" signs need to removed before we change the data type\n",
    "\n",
    "df_airbnb['host_response_rate'] = df_airbnb['host_response_rate'].str[:-1].astype('float')/100\n",
    "\n",
    "df_airbnb['host_acceptance_rate'] = df_airbnb['host_acceptance_rate'].str[:-1].astype('float')/100\n",
    "\n",
    "df_airbnb['price'] = df_airbnb['price'].str[1:].str.replace(\",\", \"\").astype('float')"
   ]
  },
  {
   "cell_type": "markdown",
   "id": "0142eb6d",
   "metadata": {},
   "source": [
    "For the \"price\" column we had to to use str.replace, before converting it to float data type. That is because numbers with more than 3 digits had a comma between the first and the second digit (e.g: 1,500).\n",
    "\n",
    "Regarding the \"%\" and \"$\" signs, we could have used replace as well, however since the special characters are at the beginning and at the end, I opted to slice the string instead."
   ]
  },
  {
   "cell_type": "markdown",
   "id": "8cc6dad7",
   "metadata": {},
   "source": [
    "While removing the dollar sign from \"price\" was important to enable us to work with the numbers it stored, we should still keep the unit type visible so that we know what currency is the number in. There are many ways to do this, but in this case I will add the \"$\" sign to our column title. "
   ]
  },
  {
   "cell_type": "code",
   "execution_count": 6,
   "id": "09f72aaa",
   "metadata": {},
   "outputs": [],
   "source": [
    "#Rename column \"price\"\n",
    "\n",
    "df_airbnb.rename(columns = {'price': 'price($)'}, inplace = True)"
   ]
  },
  {
   "cell_type": "markdown",
   "id": "62a38b51",
   "metadata": {},
   "source": [
    "The column \"bathrooms_text\" is also worth a look, as it is not clear what type of information it contains."
   ]
  },
  {
   "cell_type": "code",
   "execution_count": 7,
   "id": "5a7843ae",
   "metadata": {},
   "outputs": [
    {
     "data": {
      "text/plain": [
       "0               2 baths\n",
       "1                1 bath\n",
       "2                1 bath\n",
       "3                1 bath\n",
       "4        2 shared baths\n",
       "              ...      \n",
       "10898            1 bath\n",
       "10899           0 baths\n",
       "10900           0 baths\n",
       "10901           0 baths\n",
       "10902           0 baths\n",
       "Name: bathrooms_text, Length: 10903, dtype: object"
      ]
     },
     "execution_count": 7,
     "metadata": {},
     "output_type": "execute_result"
    }
   ],
   "source": [
    "df_airbnb['bathrooms_text']"
   ]
  },
  {
   "cell_type": "markdown",
   "id": "567eaf06",
   "metadata": {},
   "source": [
    "It contains information about the quantity and type of bathroom(s). These could be split into two distinct columns, one numerical and the other categorical. "
   ]
  },
  {
   "cell_type": "code",
   "execution_count": 8,
   "id": "ef3f3743",
   "metadata": {},
   "outputs": [
    {
     "data": {
      "text/html": [
       "<div>\n",
       "<style scoped>\n",
       "    .dataframe tbody tr th:only-of-type {\n",
       "        vertical-align: middle;\n",
       "    }\n",
       "\n",
       "    .dataframe tbody tr th {\n",
       "        vertical-align: top;\n",
       "    }\n",
       "\n",
       "    .dataframe thead th {\n",
       "        text-align: right;\n",
       "    }\n",
       "</style>\n",
       "<table border=\"1\" class=\"dataframe\">\n",
       "  <thead>\n",
       "    <tr style=\"text-align: right;\">\n",
       "      <th></th>\n",
       "      <th>bathrooms_text</th>\n",
       "      <th>bathroom_qty</th>\n",
       "      <th>bathroom_type</th>\n",
       "    </tr>\n",
       "  </thead>\n",
       "  <tbody>\n",
       "    <tr>\n",
       "      <th>0</th>\n",
       "      <td>2 baths</td>\n",
       "      <td>2</td>\n",
       "      <td>baths</td>\n",
       "    </tr>\n",
       "    <tr>\n",
       "      <th>1</th>\n",
       "      <td>1 bath</td>\n",
       "      <td>1</td>\n",
       "      <td>bath</td>\n",
       "    </tr>\n",
       "    <tr>\n",
       "      <th>2</th>\n",
       "      <td>1 bath</td>\n",
       "      <td>1</td>\n",
       "      <td>bath</td>\n",
       "    </tr>\n",
       "    <tr>\n",
       "      <th>3</th>\n",
       "      <td>1 bath</td>\n",
       "      <td>1</td>\n",
       "      <td>bath</td>\n",
       "    </tr>\n",
       "    <tr>\n",
       "      <th>4</th>\n",
       "      <td>2 shared baths</td>\n",
       "      <td>2</td>\n",
       "      <td>shared</td>\n",
       "    </tr>\n",
       "    <tr>\n",
       "      <th>...</th>\n",
       "      <td>...</td>\n",
       "      <td>...</td>\n",
       "      <td>...</td>\n",
       "    </tr>\n",
       "    <tr>\n",
       "      <th>10898</th>\n",
       "      <td>1 bath</td>\n",
       "      <td>1</td>\n",
       "      <td>bath</td>\n",
       "    </tr>\n",
       "    <tr>\n",
       "      <th>10899</th>\n",
       "      <td>0 baths</td>\n",
       "      <td>0</td>\n",
       "      <td>baths</td>\n",
       "    </tr>\n",
       "    <tr>\n",
       "      <th>10900</th>\n",
       "      <td>0 baths</td>\n",
       "      <td>0</td>\n",
       "      <td>baths</td>\n",
       "    </tr>\n",
       "    <tr>\n",
       "      <th>10901</th>\n",
       "      <td>0 baths</td>\n",
       "      <td>0</td>\n",
       "      <td>baths</td>\n",
       "    </tr>\n",
       "    <tr>\n",
       "      <th>10902</th>\n",
       "      <td>0 baths</td>\n",
       "      <td>0</td>\n",
       "      <td>baths</td>\n",
       "    </tr>\n",
       "  </tbody>\n",
       "</table>\n",
       "<p>10903 rows × 3 columns</p>\n",
       "</div>"
      ],
      "text/plain": [
       "       bathrooms_text bathroom_qty bathroom_type\n",
       "0             2 baths            2         baths\n",
       "1              1 bath            1          bath\n",
       "2              1 bath            1          bath\n",
       "3              1 bath            1          bath\n",
       "4      2 shared baths            2        shared\n",
       "...               ...          ...           ...\n",
       "10898          1 bath            1          bath\n",
       "10899         0 baths            0         baths\n",
       "10900         0 baths            0         baths\n",
       "10901         0 baths            0         baths\n",
       "10902         0 baths            0         baths\n",
       "\n",
       "[10903 rows x 3 columns]"
      ]
     },
     "execution_count": 8,
     "metadata": {},
     "output_type": "execute_result"
    }
   ],
   "source": [
    "#Splitting bathrooms_text into two separate columns\n",
    "\n",
    "df_airbnb['bathroom_qty'] = df_airbnb['bathrooms_text'].str.split(\" \", expand = True)[0]\n",
    "\n",
    "df_airbnb['bathroom_type'] = df_airbnb['bathrooms_text'].str.split(\" \", expand = True)[1]\n",
    "\n",
    "df_airbnb[['bathrooms_text','bathroom_qty','bathroom_type']]"
   ]
  },
  {
   "cell_type": "code",
   "execution_count": 9,
   "id": "917bd9c3",
   "metadata": {},
   "outputs": [
    {
     "data": {
      "text/plain": [
       "bath         6424\n",
       "baths        2618\n",
       "shared        947\n",
       "private       883\n",
       "half-bath       4\n",
       "Name: bathroom_type, dtype: int64"
      ]
     },
     "execution_count": 9,
     "metadata": {},
     "output_type": "execute_result"
    }
   ],
   "source": [
    "#Understanding what are the different type of bathrooms\n",
    "\n",
    "df_airbnb['bathroom_type'].value_counts()"
   ]
  },
  {
   "cell_type": "markdown",
   "id": "449417f6",
   "metadata": {},
   "source": [
    "Looking at our categories, we can see \"bath\" and \"baths\". Given that we have a column with the quantity, for data quality purposes it would be best to convert all \"baths\" instances to \"bath\". "
   ]
  },
  {
   "cell_type": "code",
   "execution_count": 10,
   "id": "d65e0f7e",
   "metadata": {},
   "outputs": [
    {
     "data": {
      "text/plain": [
       "bath         9042\n",
       "shared        947\n",
       "private       883\n",
       "half-bath       4\n",
       "Name: bathroom_type, dtype: int64"
      ]
     },
     "execution_count": 10,
     "metadata": {},
     "output_type": "execute_result"
    }
   ],
   "source": [
    "df_airbnb['bathroom_type'] = df_airbnb['bathroom_type'].replace('baths', 'bath')\n",
    "\n",
    "df_airbnb['bathroom_type'].value_counts()"
   ]
  },
  {
   "cell_type": "markdown",
   "id": "ea61f674",
   "metadata": {},
   "source": [
    "It would also be important to understand what does the category \"bath\" really mean, as it is not very clear based on the other available categories. However, this is something out of the scope of this notebook."
   ]
  },
  {
   "cell_type": "markdown",
   "id": "0bfb03da",
   "metadata": {},
   "source": [
    "### Null Values\n",
    "\n",
    "Another thing that might be worthy of inspection is the existance of Null Values, as it can compromise the usefulness of certain variables."
   ]
  },
  {
   "cell_type": "code",
   "execution_count": 11,
   "id": "d35f4fe3",
   "metadata": {},
   "outputs": [
    {
     "data": {
      "text/plain": [
       "description                      0.055031\n",
       "neighborhood_overview           38.429790\n",
       "host_name                        0.009172\n",
       "host_since                       0.009172\n",
       "host_location                    0.137577\n",
       "host_about                      50.985967\n",
       "host_response_time              22.461708\n",
       "host_response_rate              22.461708\n",
       "host_acceptance_rate            18.270201\n",
       "host_is_superhost                0.009172\n",
       "host_thumbnail_url               0.009172\n",
       "host_picture_url                 0.009172\n",
       "host_neighbourhood              94.946345\n",
       "host_listings_count              0.009172\n",
       "host_total_listings_count        0.009172\n",
       "host_has_profile_pic             0.009172\n",
       "host_identity_verified           0.009172\n",
       "neighbourhood                   38.429790\n",
       "bathrooms                      100.000000\n",
       "bathrooms_text                   0.165092\n",
       "bedrooms                        10.171512\n",
       "beds                             1.137302\n",
       "calendar_updated               100.000000\n",
       "first_review                    15.481977\n",
       "last_review                     15.481977\n",
       "review_scores_rating            15.481977\n",
       "review_scores_accuracy          15.995598\n",
       "review_scores_cleanliness       15.977254\n",
       "review_scores_checkin           16.013941\n",
       "review_scores_communication     15.995598\n",
       "review_scores_location          16.013941\n",
       "review_scores_value             16.023113\n",
       "license                          7.878566\n",
       "reviews_per_month               15.481977\n",
       "bathroom_qty                     0.165092\n",
       "bathroom_type                    0.247638\n",
       "dtype: float64"
      ]
     },
     "execution_count": 11,
     "metadata": {},
     "output_type": "execute_result"
    }
   ],
   "source": [
    "null_columns = df_airbnb.columns[df_airbnb.isnull().any()].to_list() #Retrieve columns that have at least one NaN\n",
    "\n",
    "(df_airbnb[null_columns].isnull().sum())*100/len(df_airbnb) #Null value percentage for all the columns with null values"
   ]
  },
  {
   "cell_type": "markdown",
   "id": "e677f9dc",
   "metadata": {},
   "source": [
    "## Exploratory Data Analysis\n",
    "\n",
    "Given that there are 74 columns, the approach we will follow is to select some columns which I deem interesting to analyse, having the impact on the price variable in in mind.\n",
    "\n",
    "We will start with our target, the price. Afterwards, we will try to understand if some selected features could have any sort of  association with the price."
   ]
  },
  {
   "cell_type": "markdown",
   "id": "12f42203",
   "metadata": {},
   "source": [
    "### Price"
   ]
  },
  {
   "cell_type": "code",
   "execution_count": 12,
   "id": "4e06602f",
   "metadata": {},
   "outputs": [
    {
     "data": {
      "image/png": "[encoded data removed]",
      "text/plain": [
       "<Figure size 432x288 with 1 Axes>"
      ]
     },
     "metadata": {
      "needs_background": "light"
     },
     "output_type": "display_data"
    }
   ],
   "source": [
    "#Using square-root rule as a rule of thumbs for the number of bins\n",
    "\n",
    "nr_bins_price = int(np.sqrt(len(df_airbnb))) \n",
    "\n",
    "plt.hist(df_airbnb['price($)'],bins=nr_bins_price);"
   ]
  },
  {
   "cell_type": "markdown",
   "id": "b1517dfd",
   "metadata": {},
   "source": [
    "We can see that the price distribution is highly skewed to the right, due to the existance of very highly priced listings (outliers). In order to remove that skew, I can perform a logarithmic transformation, taking the logarithm of prices instead. "
   ]
  },
  {
   "cell_type": "code",
   "execution_count": 13,
   "id": "7884dccf",
   "metadata": {},
   "outputs": [
    {
     "data": {
      "image/png": "[encoded data removed]",
      "text/plain": [
       "<Figure size 432x288 with 1 Axes>"
      ]
     },
     "metadata": {
      "needs_background": "light"
     },
     "output_type": "display_data"
    }
   ],
   "source": [
    "#Log transformation\n",
    "\n",
    "log_price = np.log(df_airbnb['price($)'])\n",
    "\n",
    "plt.hist(log_price, bins=nr_bins_price);"
   ]
  },
  {
   "cell_type": "markdown",
   "id": "8796c05c",
   "metadata": {},
   "source": [
    "The price seems to follow a log-normal distribution. "
   ]
  },
  {
   "cell_type": "markdown",
   "id": "47dfc397",
   "metadata": {},
   "source": [
    "### Host"
   ]
  },
  {
   "cell_type": "markdown",
   "id": "51cbfcba",
   "metadata": {},
   "source": [
    "Now we will try to assess if having the host identity verified could impact the price. Other host related features, such as host response time could be analysed, but due to the high percentage of null values (> 20%), those will not be taken into consideration."
   ]
  },
  {
   "cell_type": "code",
   "execution_count": 14,
   "id": "15d30d11",
   "metadata": {},
   "outputs": [
    {
     "data": {
      "text/html": [
       "<div>\n",
       "<style scoped>\n",
       "    .dataframe tbody tr th:only-of-type {\n",
       "        vertical-align: middle;\n",
       "    }\n",
       "\n",
       "    .dataframe tbody tr th {\n",
       "        vertical-align: top;\n",
       "    }\n",
       "\n",
       "    .dataframe thead th {\n",
       "        text-align: right;\n",
       "    }\n",
       "</style>\n",
       "<table border=\"1\" class=\"dataframe\">\n",
       "  <thead>\n",
       "    <tr style=\"text-align: right;\">\n",
       "      <th></th>\n",
       "      <th>avg_price</th>\n",
       "      <th>qty</th>\n",
       "    </tr>\n",
       "    <tr>\n",
       "      <th>host_identity_verified</th>\n",
       "      <th></th>\n",
       "      <th></th>\n",
       "    </tr>\n",
       "  </thead>\n",
       "  <tbody>\n",
       "    <tr>\n",
       "      <th>yes</th>\n",
       "      <td>85.958287</td>\n",
       "      <td>8079</td>\n",
       "    </tr>\n",
       "    <tr>\n",
       "      <th>no</th>\n",
       "      <td>101.007085</td>\n",
       "      <td>2823</td>\n",
       "    </tr>\n",
       "  </tbody>\n",
       "</table>\n",
       "</div>"
      ],
      "text/plain": [
       "                         avg_price   qty\n",
       "host_identity_verified                  \n",
       "yes                      85.958287  8079\n",
       "no                      101.007085  2823"
      ]
     },
     "execution_count": 14,
     "metadata": {},
     "output_type": "execute_result"
    }
   ],
   "source": [
    "#Transforming the variable data and grouping with some aggregation functions\n",
    "\n",
    "df_airbnb = df_airbnb.replace({'host_identity_verified':{'t':'yes','f':'no'}}) #Replacement to make it easier to understand\n",
    "\n",
    "df_airbnb.groupby(['host_identity_verified']).agg(avg_price =('price($)','mean'), qty=('price($)','count')).sort_values('avg_price', ascending = True)"
   ]
  },
  {
   "cell_type": "markdown",
   "id": "47dbd1a2",
   "metadata": {},
   "source": [
    "Surprisingly, the price appears to be higher for listings where the host identity is not verified. However, it is important to keep in mind the previous finding: the price distribution is highly skewed, which happens due to very high prices of outliers. \n",
    "\n",
    "As such, the mean is not the best measure for us to understand what the typical price scenario is, as it is heavily influenced by the outliers. \n",
    "\n",
    "To this end we will calculate the median value, a robust statistic, and re-evaluate the results. "
   ]
  },
  {
   "cell_type": "code",
   "execution_count": 15,
   "id": "f8dede37",
   "metadata": {},
   "outputs": [
    {
     "data": {
      "text/html": [
       "<div>\n",
       "<style scoped>\n",
       "    .dataframe tbody tr th:only-of-type {\n",
       "        vertical-align: middle;\n",
       "    }\n",
       "\n",
       "    .dataframe tbody tr th {\n",
       "        vertical-align: top;\n",
       "    }\n",
       "\n",
       "    .dataframe thead th {\n",
       "        text-align: right;\n",
       "    }\n",
       "</style>\n",
       "<table border=\"1\" class=\"dataframe\">\n",
       "  <thead>\n",
       "    <tr style=\"text-align: right;\">\n",
       "      <th></th>\n",
       "      <th>median_price</th>\n",
       "      <th>qty</th>\n",
       "    </tr>\n",
       "    <tr>\n",
       "      <th>host_identity_verified</th>\n",
       "      <th></th>\n",
       "      <th></th>\n",
       "    </tr>\n",
       "  </thead>\n",
       "  <tbody>\n",
       "    <tr>\n",
       "      <th>no</th>\n",
       "      <td>55.0</td>\n",
       "      <td>2823</td>\n",
       "    </tr>\n",
       "    <tr>\n",
       "      <th>yes</th>\n",
       "      <td>63.0</td>\n",
       "      <td>8079</td>\n",
       "    </tr>\n",
       "  </tbody>\n",
       "</table>\n",
       "</div>"
      ],
      "text/plain": [
       "                        median_price   qty\n",
       "host_identity_verified                    \n",
       "no                              55.0  2823\n",
       "yes                             63.0  8079"
      ]
     },
     "execution_count": 15,
     "metadata": {},
     "output_type": "execute_result"
    }
   ],
   "source": [
    "df_airbnb.groupby(['host_identity_verified']).agg(median_price =('price($)','median'), qty=('price($)','count')).sort_values('median_price', ascending = True)"
   ]
  },
  {
   "cell_type": "markdown",
   "id": "588ccd41",
   "metadata": {},
   "source": [
    "Now we see a considerable difference in prices, where having an identified host seems to be linked to higher prices. "
   ]
  },
  {
   "cell_type": "markdown",
   "id": "4958a4c6",
   "metadata": {},
   "source": [
    "### Size"
   ]
  },
  {
   "cell_type": "markdown",
   "id": "a80d33f4",
   "metadata": {},
   "source": [
    "In this subsection, we take a look at the data to understand how the price of place changes as we increase the number of people it can accommodate.\n",
    "\n",
    "This time we will observe this graphically, using boxplots and the logarithm of prices."
   ]
  },
  {
   "cell_type": "code",
   "execution_count": 16,
   "id": "612e2f29",
   "metadata": {},
   "outputs": [
    {
     "data": {
      "image/png": "[encoded data removed]",
      "text/plain": [
       "<Figure size 432x288 with 1 Axes>"
      ]
     },
     "metadata": {
      "needs_background": "light"
     },
     "output_type": "display_data"
    }
   ],
   "source": [
    "sns.boxplot(data=df_airbnb, x='accommodates', y = log_price);"
   ]
  },
  {
   "cell_type": "markdown",
   "id": "1a7559fd",
   "metadata": {},
   "source": [
    "As our intuition would tell us, we see an increase in price as the number of accommodates increases."
   ]
  },
  {
   "cell_type": "markdown",
   "id": "0ba6f8e3",
   "metadata": {},
   "source": [
    "### Amenities"
   ]
  },
  {
   "cell_type": "markdown",
   "id": "7a8e0bf6",
   "metadata": {},
   "source": [
    "Amenities is one key aspect considered when choosing a place to stay, as there might be some which are essential for that perfect trip. \n",
    "\n",
    "Let's take some examples and see how they can impact the prices of airbnbs in Porto."
   ]
  },
  {
   "cell_type": "code",
   "execution_count": 17,
   "id": "ebc87f26",
   "metadata": {},
   "outputs": [
    {
     "data": {
      "text/plain": [
       "0    [\"Wine glasses\", \"Free parking on premises\", \"...\n",
       "1    [\"Wine glasses\", \"Carbon monoxide alarm\", \"Dis...\n",
       "2    [\"Wifi\", \"Hangers\", \"Baby safety gates\", \"Bed ...\n",
       "3    [\"Wifi\", \"Hangers\", \"Bed linens\", \"Baby bath\",...\n",
       "4    [\"Hair dryer\", \"Cooking basics\", \"Paid parking...\n",
       "Name: amenities, dtype: object"
      ]
     },
     "execution_count": 17,
     "metadata": {},
     "output_type": "execute_result"
    }
   ],
   "source": [
    "#Checking the data for the amenities column\n",
    "\n",
    "df_airbnb['amenities'].head()"
   ]
  },
  {
   "cell_type": "code",
   "execution_count": 18,
   "id": "b122d1a3",
   "metadata": {},
   "outputs": [
    {
     "data": {
      "text/plain": [
       "str"
      ]
     },
     "execution_count": 18,
     "metadata": {},
     "output_type": "execute_result"
    }
   ],
   "source": [
    "#Checking the data type\n",
    "\n",
    "type(df_airbnb['amenities'][0])"
   ]
  },
  {
   "cell_type": "markdown",
   "id": "2e21b36b",
   "metadata": {},
   "source": [
    "We can see that our amenities column, while it appears to be of the data type \"list\", it is in fact \"string\". This means we cannot loop through these \"lists\" to extract the individual elements.\n",
    "\n",
    "Fortunately, each individual amenity is in between quotation marks, making this ideal for the \"eval\" function. We will still keep the original variable as it might still be useful to have a string version."
   ]
  },
  {
   "cell_type": "code",
   "execution_count": 19,
   "id": "260469d1",
   "metadata": {},
   "outputs": [
    {
     "data": {
      "text/plain": [
       "list"
      ]
     },
     "execution_count": 19,
     "metadata": {},
     "output_type": "execute_result"
    }
   ],
   "source": [
    "df_airbnb['amenities_list'] = df_airbnb['amenities'].apply(eval)\n",
    "\n",
    "type(df_airbnb['amenities_list'][0])"
   ]
  },
  {
   "cell_type": "markdown",
   "id": "e37a9b94",
   "metadata": {},
   "source": [
    "Now the new \"amenities_list\" column, in the dataframe, is of the \"list\" type. With this data type change we can proceed with the extraction of the individual elements. For that we will use a custom function. "
   ]
  },
  {
   "cell_type": "code",
   "execution_count": 20,
   "id": "85a05607",
   "metadata": {},
   "outputs": [],
   "source": [
    "def extract_amenities(df): \n",
    "    \n",
    "    un_amn_list = []\n",
    "    amn_list = []\n",
    "    \n",
    "    for row_list in df['amenities_list']:\n",
    "        for amn in row_list:\n",
    "            \n",
    "            amn = amn.lower()           \n",
    "            \n",
    "            amn_list.append(amn)\n",
    "            \n",
    "            if amn not in un_amn_list:\n",
    "                un_amn_list.append(amn)\n",
    "    \n",
    "    return(amn_list, un_amn_list)"
   ]
  },
  {
   "cell_type": "code",
   "execution_count": 21,
   "id": "5ad3b936",
   "metadata": {},
   "outputs": [
    {
     "data": {
      "text/plain": [
       "1002"
      ]
     },
     "execution_count": 21,
     "metadata": {},
     "output_type": "execute_result"
    }
   ],
   "source": [
    "#Applying the customized function to the dataframe\n",
    "\n",
    "full_amn_list, unique_amn = extract_amenities(df_airbnb)\n",
    "\n",
    "len(unique_amn)"
   ]
  },
  {
   "cell_type": "markdown",
   "id": "4d282621",
   "metadata": {},
   "source": [
    "Having 1002 amenities to choose from, we should try to see what are the most frequent ones and go from there."
   ]
  },
  {
   "cell_type": "code",
   "execution_count": 22,
   "id": "ce935195",
   "metadata": {},
   "outputs": [
    {
     "data": {
      "text/plain": [
       "[('wifi', 10357),\n",
       " ('essentials', 10201),\n",
       " ('long term stays allowed', 10158),\n",
       " ('kitchen', 9647),\n",
       " ('hair dryer', 9435),\n",
       " ('hangers', 8921),\n",
       " ('fire extinguisher', 8619),\n",
       " ('first aid kit', 8402),\n",
       " ('hot water', 8102),\n",
       " ('dishes and silverware', 7939),\n",
       " ('iron', 7911),\n",
       " ('cooking basics', 7617),\n",
       " ('microwave', 7316),\n",
       " ('refrigerator', 7315),\n",
       " ('coffee maker', 7292),\n",
       " ('shampoo', 7257),\n",
       " ('bed linens', 7039),\n",
       " ('dedicated workspace', 6605),\n",
       " ('heating', 6341),\n",
       " ('stove', 5936),\n",
       " ('cable tv', 4923),\n",
       " ('oven', 4793),\n",
       " ('tv', 4606),\n",
       " ('tv with standard cable', 4579),\n",
       " ('washer', 4375),\n",
       " ('air conditioning', 4302),\n",
       " ('smoke alarm', 3856),\n",
       " ('extra pillows and blankets', 3753),\n",
       " ('private entrance', 3369),\n",
       " ('dishwasher', 3286),\n",
       " ('host greets you', 3162),\n",
       " ('crib', 3083),\n",
       " ('free street parking', 3066),\n",
       " ('shower gel', 3022),\n",
       " ('elevator', 3018),\n",
       " ('room-darkening shades', 3008),\n",
       " ('luggage dropoff allowed', 2816),\n",
       " ('patio or balcony', 2563),\n",
       " ('carbon monoxide alarm', 2509),\n",
       " ('pack ’n play/travel crib', 2348),\n",
       " ('high chair', 2286),\n",
       " ('hot water kettle', 2246),\n",
       " ('free parking on premises', 2217),\n",
       " ('dining table', 2108),\n",
       " ('freezer', 2025),\n",
       " ('wine glasses', 2014),\n",
       " ('paid parking off premises', 1983),\n",
       " ('toaster', 1876),\n",
       " ('laundromat nearby', 1717),\n",
       " ('dryer', 1595)]"
      ]
     },
     "execution_count": 22,
     "metadata": {},
     "output_type": "execute_result"
    }
   ],
   "source": [
    "#Identifying the 50 most frequent amenities\n",
    "\n",
    "from collections import Counter\n",
    "\n",
    "Counter(full_amn_list).most_common(50)"
   ]
  },
  {
   "cell_type": "markdown",
   "id": "a5085ad7",
   "metadata": {},
   "source": [
    "Looking at this list count, we can see that amenities such as wifi are very imbalanced, as most places have wifi. Ideally we should look into more balanced amenities, to get a better idea if they influence the price or not. \n",
    "\n",
    "Let's start by having a look at stove as an amenity. "
   ]
  },
  {
   "cell_type": "code",
   "execution_count": 23,
   "id": "9053c7d1",
   "metadata": {},
   "outputs": [
    {
     "data": {
      "text/html": [
       "<div>\n",
       "<style scoped>\n",
       "    .dataframe tbody tr th:only-of-type {\n",
       "        vertical-align: middle;\n",
       "    }\n",
       "\n",
       "    .dataframe tbody tr th {\n",
       "        vertical-align: top;\n",
       "    }\n",
       "\n",
       "    .dataframe thead th {\n",
       "        text-align: right;\n",
       "    }\n",
       "</style>\n",
       "<table border=\"1\" class=\"dataframe\">\n",
       "  <thead>\n",
       "    <tr style=\"text-align: right;\">\n",
       "      <th></th>\n",
       "      <th>median_price</th>\n",
       "      <th>qty</th>\n",
       "    </tr>\n",
       "    <tr>\n",
       "      <th>has_stove</th>\n",
       "      <th></th>\n",
       "      <th></th>\n",
       "    </tr>\n",
       "  </thead>\n",
       "  <tbody>\n",
       "    <tr>\n",
       "      <th>False</th>\n",
       "      <td>58.0</td>\n",
       "      <td>4172</td>\n",
       "    </tr>\n",
       "    <tr>\n",
       "      <th>True</th>\n",
       "      <td>63.0</td>\n",
       "      <td>6731</td>\n",
       "    </tr>\n",
       "  </tbody>\n",
       "</table>\n",
       "</div>"
      ],
      "text/plain": [
       "           median_price   qty\n",
       "has_stove                    \n",
       "False              58.0  4172\n",
       "True               63.0  6731"
      ]
     },
     "execution_count": 23,
     "metadata": {},
     "output_type": "execute_result"
    }
   ],
   "source": [
    "#Use of a list comprehension to quickly check if certain amenities exist in each row \n",
    "\n",
    "df_airbnb['has_stove'] = ['stove' in row.lower() for row in df_airbnb['amenities']]\n",
    "\n",
    "#Aggregation of data to have an idea of how price is impacted by having a stove\n",
    "\n",
    "df_airbnb.groupby(['has_stove']).agg( median_price = ('price($)', 'median'), qty = ('price($)', 'count'))"
   ]
  },
  {
   "cell_type": "markdown",
   "id": "0cc3abf6",
   "metadata": {},
   "source": [
    "Having a stove seems to make the airbnb price go up, which is something that intuitively makes sense. \n",
    "\n",
    "Something interesting to observe is that the count here does not match the count we previously obtained in our \"full_amn_list\". This is most likely due to some entries containing extra details (e.g. brand) before or after the word \"stove\". The grouping we just did is therefore more accurate, as it includes all stoves.\n",
    "\n",
    "To check all the \"stove\" entries in \"full_amn_list\" and verify this hypothesis, we could import the \"fnmatch\" module and use the following line of code: fnmatch.filter(full_amn_list, '*stove*')\n",
    "\n",
    "However, for the sake of the readibility of this notebook, we will skip this step. "
   ]
  },
  {
   "cell_type": "markdown",
   "id": "14c153d5",
   "metadata": {},
   "source": [
    "Now let's see how having any sort of free parking can impact price."
   ]
  },
  {
   "cell_type": "code",
   "execution_count": 25,
   "id": "e8cacd84",
   "metadata": {},
   "outputs": [
    {
     "data": {
      "text/html": [
       "<div>\n",
       "<style scoped>\n",
       "    .dataframe tbody tr th:only-of-type {\n",
       "        vertical-align: middle;\n",
       "    }\n",
       "\n",
       "    .dataframe tbody tr th {\n",
       "        vertical-align: top;\n",
       "    }\n",
       "\n",
       "    .dataframe thead th {\n",
       "        text-align: right;\n",
       "    }\n",
       "</style>\n",
       "<table border=\"1\" class=\"dataframe\">\n",
       "  <thead>\n",
       "    <tr style=\"text-align: right;\">\n",
       "      <th></th>\n",
       "      <th>median_price</th>\n",
       "      <th>qty</th>\n",
       "    </tr>\n",
       "    <tr>\n",
       "      <th>has_parking</th>\n",
       "      <th></th>\n",
       "      <th></th>\n",
       "    </tr>\n",
       "  </thead>\n",
       "  <tbody>\n",
       "    <tr>\n",
       "      <th>False</th>\n",
       "      <td>60.0</td>\n",
       "      <td>8629</td>\n",
       "    </tr>\n",
       "    <tr>\n",
       "      <th>True</th>\n",
       "      <td>70.0</td>\n",
       "      <td>2274</td>\n",
       "    </tr>\n",
       "  </tbody>\n",
       "</table>\n",
       "</div>"
      ],
      "text/plain": [
       "             median_price   qty\n",
       "has_parking                    \n",
       "False                60.0  8629\n",
       "True                 70.0  2274"
      ]
     },
     "execution_count": 25,
     "metadata": {},
     "output_type": "execute_result"
    }
   ],
   "source": [
    "df_airbnb['has_parking'] = ['free parking' in row.lower() for row in df_airbnb['amenities']]\n",
    "\n",
    "df_airbnb.groupby(['has_parking']).agg( median_price = ('price($)', 'median'), qty = ('price($)', 'count'))"
   ]
  },
  {
   "cell_type": "markdown",
   "id": "c8f29d00",
   "metadata": {},
   "source": [
    "The median value for places with some sort of free parking is higher than for those who do not have it.\n",
    "\n",
    "Obviously, a deeper analysis of amenities would have to be done to truly see the effect on the price, however, as previously mentioned, here the objective is to have a feeling for the data and understand how price is associated with other variables."
   ]
  },
  {
   "cell_type": "markdown",
   "id": "81e505f2",
   "metadata": {},
   "source": [
    "### Type of place"
   ]
  },
  {
   "cell_type": "markdown",
   "id": "3f2bf6eb",
   "metadata": {},
   "source": [
    "For the type of place I will follow the same approach used when analysing size. "
   ]
  },
  {
   "cell_type": "code",
   "execution_count": 26,
   "id": "73097329",
   "metadata": {},
   "outputs": [
    {
     "data": {
      "image/png": "[encoded data removed]",
      "text/plain": [
       "<Figure size 432x288 with 1 Axes>"
      ]
     },
     "metadata": {
      "needs_background": "light"
     },
     "output_type": "display_data"
    }
   ],
   "source": [
    "sns.boxplot(data = df_airbnb, x='room_type', y= log_price);"
   ]
  },
  {
   "cell_type": "markdown",
   "id": "09d1ebc0",
   "metadata": {},
   "source": [
    "\"Private Room\" and \"Shared Room\" accomodation types are typically the cheapest ones, with the \"Hotel Room\" being the priciest. "
   ]
  },
  {
   "cell_type": "markdown",
   "id": "6390db63",
   "metadata": {},
   "source": [
    "### Location"
   ]
  },
  {
   "cell_type": "markdown",
   "id": "9e6ec86d",
   "metadata": {},
   "source": [
    "Location is one of the key factors when choosing an airbnb. Therefore, it is important to try to understand how price changes according to the location."
   ]
  },
  {
   "cell_type": "code",
   "execution_count": 27,
   "id": "60c0b684",
   "metadata": {},
   "outputs": [
    {
     "data": {
      "text/html": [
       "<div>\n",
       "<style scoped>\n",
       "    .dataframe tbody tr th:only-of-type {\n",
       "        vertical-align: middle;\n",
       "    }\n",
       "\n",
       "    .dataframe tbody tr th {\n",
       "        vertical-align: top;\n",
       "    }\n",
       "\n",
       "    .dataframe thead th {\n",
       "        text-align: right;\n",
       "    }\n",
       "</style>\n",
       "<table border=\"1\" class=\"dataframe\">\n",
       "  <thead>\n",
       "    <tr style=\"text-align: right;\">\n",
       "      <th></th>\n",
       "      <th>median_price</th>\n",
       "      <th>qty</th>\n",
       "    </tr>\n",
       "    <tr>\n",
       "      <th>neighbourhood_group_cleansed</th>\n",
       "      <th></th>\n",
       "      <th></th>\n",
       "    </tr>\n",
       "  </thead>\n",
       "  <tbody>\n",
       "    <tr>\n",
       "      <th>SÃO JOÃO DA MADEIRA</th>\n",
       "      <td>49.0</td>\n",
       "      <td>22</td>\n",
       "    </tr>\n",
       "    <tr>\n",
       "      <th>SANTA MARIA DA FEIRA</th>\n",
       "      <td>50.0</td>\n",
       "      <td>64</td>\n",
       "    </tr>\n",
       "    <tr>\n",
       "      <th>MAIA</th>\n",
       "      <td>55.0</td>\n",
       "      <td>103</td>\n",
       "    </tr>\n",
       "    <tr>\n",
       "      <th>MATOSINHOS</th>\n",
       "      <td>56.0</td>\n",
       "      <td>447</td>\n",
       "    </tr>\n",
       "    <tr>\n",
       "      <th>VILA NOVA DE GAIA</th>\n",
       "      <td>60.0</td>\n",
       "      <td>1205</td>\n",
       "    </tr>\n",
       "    <tr>\n",
       "      <th>OLIVEIRA DE AZEMÉIS</th>\n",
       "      <td>60.0</td>\n",
       "      <td>45</td>\n",
       "    </tr>\n",
       "    <tr>\n",
       "      <th>PORTO</th>\n",
       "      <td>60.0</td>\n",
       "      <td>7948</td>\n",
       "    </tr>\n",
       "    <tr>\n",
       "      <th>VALONGO</th>\n",
       "      <td>65.5</td>\n",
       "      <td>24</td>\n",
       "    </tr>\n",
       "    <tr>\n",
       "      <th>PÓVOA DE VARZIM</th>\n",
       "      <td>69.5</td>\n",
       "      <td>256</td>\n",
       "    </tr>\n",
       "    <tr>\n",
       "      <th>ESPINHO</th>\n",
       "      <td>70.0</td>\n",
       "      <td>131</td>\n",
       "    </tr>\n",
       "    <tr>\n",
       "      <th>VILA DO CONDE</th>\n",
       "      <td>70.0</td>\n",
       "      <td>264</td>\n",
       "    </tr>\n",
       "    <tr>\n",
       "      <th>SANTO TIRSO</th>\n",
       "      <td>84.0</td>\n",
       "      <td>31</td>\n",
       "    </tr>\n",
       "    <tr>\n",
       "      <th>GONDOMAR</th>\n",
       "      <td>90.0</td>\n",
       "      <td>111</td>\n",
       "    </tr>\n",
       "    <tr>\n",
       "      <th>PAREDES</th>\n",
       "      <td>92.0</td>\n",
       "      <td>56</td>\n",
       "    </tr>\n",
       "    <tr>\n",
       "      <th>VALE DE CAMBRA</th>\n",
       "      <td>100.0</td>\n",
       "      <td>53</td>\n",
       "    </tr>\n",
       "    <tr>\n",
       "      <th>AROUCA</th>\n",
       "      <td>100.0</td>\n",
       "      <td>129</td>\n",
       "    </tr>\n",
       "    <tr>\n",
       "      <th>TROFA</th>\n",
       "      <td>120.0</td>\n",
       "      <td>14</td>\n",
       "    </tr>\n",
       "  </tbody>\n",
       "</table>\n",
       "</div>"
      ],
      "text/plain": [
       "                              median_price   qty\n",
       "neighbourhood_group_cleansed                    \n",
       "SÃO JOÃO DA MADEIRA                   49.0    22\n",
       "SANTA MARIA DA FEIRA                  50.0    64\n",
       "MAIA                                  55.0   103\n",
       "MATOSINHOS                            56.0   447\n",
       "VILA NOVA DE GAIA                     60.0  1205\n",
       "OLIVEIRA DE AZEMÉIS                   60.0    45\n",
       "PORTO                                 60.0  7948\n",
       "VALONGO                               65.5    24\n",
       "PÓVOA DE VARZIM                       69.5   256\n",
       "ESPINHO                               70.0   131\n",
       "VILA DO CONDE                         70.0   264\n",
       "SANTO TIRSO                           84.0    31\n",
       "GONDOMAR                              90.0   111\n",
       "PAREDES                               92.0    56\n",
       "VALE DE CAMBRA                       100.0    53\n",
       "AROUCA                               100.0   129\n",
       "TROFA                                120.0    14"
      ]
     },
     "execution_count": 27,
     "metadata": {},
     "output_type": "execute_result"
    }
   ],
   "source": [
    "df_airbnb.groupby(['neighbourhood_group_cleansed']).agg( median_price = ('price($)', 'median'), qty = ('price($)', 'count')).sort_values('median_price')"
   ]
  },
  {
   "cell_type": "markdown",
   "id": "ecf93b65",
   "metadata": {},
   "source": [
    "Not surprisingly we find that most airbnbs are located between Porto's city (where the main tourist attractions are) and Gaia (walking access to Porto). \n",
    "\n",
    "However, we see that despite the strong location, the median prices are lower when compared with a less popular destination such as Trofa. Let's try to understand why. "
   ]
  },
  {
   "cell_type": "code",
   "execution_count": 28,
   "id": "930dc145",
   "metadata": {},
   "outputs": [
    {
     "data": {
      "text/html": [
       "<div>\n",
       "<style scoped>\n",
       "    .dataframe tbody tr th:only-of-type {\n",
       "        vertical-align: middle;\n",
       "    }\n",
       "\n",
       "    .dataframe tbody tr th {\n",
       "        vertical-align: top;\n",
       "    }\n",
       "\n",
       "    .dataframe thead th {\n",
       "        text-align: right;\n",
       "    }\n",
       "</style>\n",
       "<table border=\"1\" class=\"dataframe\">\n",
       "  <thead>\n",
       "    <tr style=\"text-align: right;\">\n",
       "      <th></th>\n",
       "      <th></th>\n",
       "      <th>median_price</th>\n",
       "      <th>qty</th>\n",
       "    </tr>\n",
       "    <tr>\n",
       "      <th>neighbourhood_group_cleansed</th>\n",
       "      <th>room_type</th>\n",
       "      <th></th>\n",
       "      <th></th>\n",
       "    </tr>\n",
       "  </thead>\n",
       "  <tbody>\n",
       "    <tr>\n",
       "      <th rowspan=\"4\" valign=\"top\">PORTO</th>\n",
       "      <th>Entire home/apt</th>\n",
       "      <td>64.0</td>\n",
       "      <td>6503</td>\n",
       "    </tr>\n",
       "    <tr>\n",
       "      <th>Hotel room</th>\n",
       "      <td>90.0</td>\n",
       "      <td>120</td>\n",
       "    </tr>\n",
       "    <tr>\n",
       "      <th>Private room</th>\n",
       "      <td>35.0</td>\n",
       "      <td>1262</td>\n",
       "    </tr>\n",
       "    <tr>\n",
       "      <th>Shared room</th>\n",
       "      <td>19.0</td>\n",
       "      <td>63</td>\n",
       "    </tr>\n",
       "    <tr>\n",
       "      <th rowspan=\"2\" valign=\"top\">TROFA</th>\n",
       "      <th>Entire home/apt</th>\n",
       "      <td>120.0</td>\n",
       "      <td>13</td>\n",
       "    </tr>\n",
       "    <tr>\n",
       "      <th>Private room</th>\n",
       "      <td>20.0</td>\n",
       "      <td>1</td>\n",
       "    </tr>\n",
       "  </tbody>\n",
       "</table>\n",
       "</div>"
      ],
      "text/plain": [
       "                                              median_price   qty\n",
       "neighbourhood_group_cleansed room_type                          \n",
       "PORTO                        Entire home/apt          64.0  6503\n",
       "                             Hotel room               90.0   120\n",
       "                             Private room             35.0  1262\n",
       "                             Shared room              19.0    63\n",
       "TROFA                        Entire home/apt         120.0    13\n",
       "                             Private room             20.0     1"
      ]
     },
     "execution_count": 28,
     "metadata": {},
     "output_type": "execute_result"
    }
   ],
   "source": [
    "df_airbnb.groupby(['neighbourhood_group_cleansed', 'room_type']).agg( median_price = ('price($)', 'median'), qty = ('price($)', 'count')).loc[['PORTO', 'TROFA']]"
   ]
  },
  {
   "cell_type": "markdown",
   "id": "555d5aab",
   "metadata": {},
   "source": [
    "Based on the prices it seems that Trofa probably has more \"entire homes\", rather than \"apartment\"s which are more typical in a center like Porto, where \"entire homes\" are almost nonexistant. However, further investigation would be required for us to retrieve and analyse the necessary data and confirm this hypothesis. \n",
    "\n",
    "In any case, it is interesting to see that for \"Private Room\" the prices in Porto are visibly higher, as we would expect for comparable room types. "
   ]
  },
  {
   "cell_type": "code",
   "execution_count": 29,
   "id": "1b1b62d1",
   "metadata": {},
   "outputs": [
    {
     "data": {
      "text/html": [
       "<div>\n",
       "<style scoped>\n",
       "    .dataframe tbody tr th:only-of-type {\n",
       "        vertical-align: middle;\n",
       "    }\n",
       "\n",
       "    .dataframe tbody tr th {\n",
       "        vertical-align: top;\n",
       "    }\n",
       "\n",
       "    .dataframe thead th {\n",
       "        text-align: right;\n",
       "    }\n",
       "</style>\n",
       "<table border=\"1\" class=\"dataframe\">\n",
       "  <thead>\n",
       "    <tr style=\"text-align: right;\">\n",
       "      <th></th>\n",
       "      <th>median_price</th>\n",
       "      <th>qty</th>\n",
       "    </tr>\n",
       "    <tr>\n",
       "      <th>neighbourhood_cleansed</th>\n",
       "      <th></th>\n",
       "      <th></th>\n",
       "    </tr>\n",
       "  </thead>\n",
       "  <tbody>\n",
       "    <tr>\n",
       "      <th>Paranhos</th>\n",
       "      <td>38.0</td>\n",
       "      <td>412</td>\n",
       "    </tr>\n",
       "    <tr>\n",
       "      <th>Ramalde</th>\n",
       "      <td>44.0</td>\n",
       "      <td>153</td>\n",
       "    </tr>\n",
       "    <tr>\n",
       "      <th>Campanhã</th>\n",
       "      <td>52.0</td>\n",
       "      <td>176</td>\n",
       "    </tr>\n",
       "    <tr>\n",
       "      <th>Bonfim</th>\n",
       "      <td>54.0</td>\n",
       "      <td>1081</td>\n",
       "    </tr>\n",
       "    <tr>\n",
       "      <th>Lordelo do Ouro e Massarelos</th>\n",
       "      <td>61.0</td>\n",
       "      <td>385</td>\n",
       "    </tr>\n",
       "    <tr>\n",
       "      <th>Cedofeita, Ildefonso, Sé, Miragaia, Nicolau, Vitória</th>\n",
       "      <td>63.0</td>\n",
       "      <td>5564</td>\n",
       "    </tr>\n",
       "    <tr>\n",
       "      <th>Aldoar, Foz do Douro e Nevogilde</th>\n",
       "      <td>80.0</td>\n",
       "      <td>177</td>\n",
       "    </tr>\n",
       "  </tbody>\n",
       "</table>\n",
       "</div>"
      ],
      "text/plain": [
       "                                                    median_price   qty\n",
       "neighbourhood_cleansed                                                \n",
       "Paranhos                                                    38.0   412\n",
       "Ramalde                                                     44.0   153\n",
       "Campanhã                                                    52.0   176\n",
       "Bonfim                                                      54.0  1081\n",
       "Lordelo do Ouro e Massarelos                                61.0   385\n",
       "Cedofeita, Ildefonso, Sé, Miragaia, Nicolau, Vi...          63.0  5564\n",
       "Aldoar, Foz do Douro e Nevogilde                            80.0   177"
      ]
     },
     "execution_count": 29,
     "metadata": {},
     "output_type": "execute_result"
    }
   ],
   "source": [
    "df_airbnb[df_airbnb['neighbourhood_group_cleansed'] == 'PORTO'].groupby(['neighbourhood_cleansed']).agg(median_price = ('price($)', 'median'), qty = ('price($)', 'count')).sort_values('median_price', ascending = True)"
   ]
  },
  {
   "cell_type": "code",
   "execution_count": 30,
   "id": "7edf7e49",
   "metadata": {},
   "outputs": [
    {
     "data": {
      "text/plain": [
       "60.0"
      ]
     },
     "execution_count": 30,
     "metadata": {},
     "output_type": "execute_result"
    }
   ],
   "source": [
    "#Median price in Porto\n",
    "\n",
    "df_airbnb['price($)'].median('neighbourhood_group_cleansed' == \"PORTO\")"
   ]
  },
  {
   "cell_type": "markdown",
   "id": "a43c9393",
   "metadata": {},
   "source": [
    "\"Aldoar, Foz do Douro e Nevogilde\", \"Cedofeita, Ildefonso, Sé, Miragaia, Nicolau, Vitória\" and \"Lordelo do Ouro e Massarelos\" are the priciest areas within Porto, with listing meadian price being above the median price in Porto. \n",
    "\n",
    "A quick Google search gives information that confirms the one obtained in this analysis, as the house prices for these areas are also the highest in 2022. "
   ]
  },
  {
   "cell_type": "markdown",
   "id": "fb07642c",
   "metadata": {},
   "source": [
    "## Conclusion\n",
    "\n",
    "We started by inspecting the dataset to get a feel for the data. This was followed by some data cleaning, to ensure it met the format required for this workbook's purposes. \n",
    "\n",
    "Last but not least, an EDA was performed, where we looked at various feautures of the dataset, trying to observe potential relationships between those features and the price of our listings in Porto. In the process we found some interesting insights that could serve as base for further research and consequent analysis.  "
   ]
  }
 ],
 "metadata": {
  "kernelspec": {
   "display_name": "Python 3",
   "language": "python",
   "name": "python3"
  },
  "language_info": {
   "codemirror_mode": {
    "name": "ipython",
    "version": 3
   },
   "file_extension": ".py",
   "mimetype": "text/x-python",
   "name": "python",
   "nbconvert_exporter": "python",
   "pygments_lexer": "ipython3",
   "version": "3.8.8"
  }
 },
 "nbformat": 4,
 "nbformat_minor": 5
}
